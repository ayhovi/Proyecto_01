{
 "cells": [
  {
   "cell_type": "code",
   "execution_count": 1,
   "metadata": {},
   "outputs": [],
   "source": [
    "from fastapi import FastAPI\n",
    "import uvicorn\n",
    "import pandas as pd\n",
    "from sklearn.feature_extraction.text import TfidfVectorizer\n",
    "from sklearn.metrics.pairwise import cosine_similarity, linear_kernel"
   ]
  },
  {
   "cell_type": "code",
   "execution_count": 2,
   "metadata": {},
   "outputs": [],
   "source": [
    "df = pd.read_csv('Datasets/Peliculas_Limpias.csv')\n"
   ]
  },
  {
   "cell_type": "markdown",
   "metadata": {},
   "source": [
    "### Función 1 Idioma"
   ]
  },
  {
   "cell_type": "code",
   "execution_count": 3,
   "metadata": {},
   "outputs": [],
   "source": [
    "def peliculas_idioma(idioma:str):\n",
    "    '''Se ingresa un idioma con su abreviatura en inglés y devuelve la cantidad de películas producidas en ese idioma.'''\n",
    "    sacar_idioma = df[df['Idioma'] == idioma]\n",
    "    total = len(sacar_idioma)\n",
    "    return {'Respuesta': f\"{total} peliculas se lanzaron en {idioma}\"}"
   ]
  },
  {
   "cell_type": "code",
   "execution_count": 4,
   "metadata": {},
   "outputs": [
    {
     "name": "stdout",
     "output_type": "stream",
     "text": [
      "{'Respuesta': '32249 peliculas se lanzaron en en'}\n",
      "{'Respuesta': '991 peliculas se lanzaron en es'}\n",
      "{'Respuesta': '2442 peliculas se lanzaron en fr'}\n"
     ]
    }
   ],
   "source": [
    "print(peliculas_idioma('en'))\n",
    "print(peliculas_idioma('es'))\n",
    "print(peliculas_idioma('fr'))"
   ]
  },
  {
   "cell_type": "markdown",
   "metadata": {},
   "source": [
    "# _________________________________________________________________\n",
    "### Función 2 Duración y año de la película"
   ]
  },
  {
   "cell_type": "code",
   "execution_count": 5,
   "metadata": {},
   "outputs": [],
   "source": [
    "def peliculas_duracion(Pelicula:str):\n",
    "    '''Se ingresa una pelicula. Debe devolver la duracion y el año.'''\n",
    "    peli = df[df['Titulo'] == Pelicula].iloc[0]\n",
    "    duracion = peli['Duración']\n",
    "    anio = peli['Año_Lanzamiento']\n",
    "    return {'Respuesta': f\"{Pelicula}. Duración: {duracion}. Año: {anio}\"}"
   ]
  },
  {
   "cell_type": "code",
   "execution_count": 6,
   "metadata": {},
   "outputs": [
    {
     "name": "stdout",
     "output_type": "stream",
     "text": [
      "{'Respuesta': 'Toy Story. Duración: 81.0. Año: 1995'}\n",
      "{'Respuesta': 'Jumanji. Duración: 104.0. Año: 1995'}\n",
      "{'Respuesta': 'Se7en. Duración: 127.0. Año: 1995'}\n"
     ]
    }
   ],
   "source": [
    "print(peliculas_duracion('Toy Story'))\n",
    "print(peliculas_duracion('Jumanji'))\n",
    "print(peliculas_duracion('Se7en'))"
   ]
  },
  {
   "cell_type": "markdown",
   "metadata": {},
   "source": [
    "# _________________________________________________________________\n",
    "### Función 3 Franquicia "
   ]
  },
  {
   "cell_type": "code",
   "execution_count": 9,
   "metadata": {},
   "outputs": [],
   "source": [
    "def franquicia(Franquicia: str ): \n",
    "    '''Se ingresa la franquicia, retornando la cantidad de peliculas, ganancia total y promedio.'''\n",
    "    valor_encontrado = df[df['Franquicia']==Franquicia]\n",
    "    series = len(valor_encontrado)\n",
    "    total = valor_encontrado['Ganancia'].sum()\n",
    "    promedio = valor_encontrado['Ganancia'].mean()\n",
    "\n",
    "    return {'Franquicia': Franquicia, \n",
    "            'Cantidad de Películas': series, \n",
    "            'Ganancias Totales': total, \n",
    "            'Promedio de las Ganancias': promedio}"
   ]
  },
  {
   "cell_type": "code",
   "execution_count": 11,
   "metadata": {},
   "outputs": [
    {
     "name": "stdout",
     "output_type": "stream",
     "text": [
      "{'Franquicia': 'Toy Story Collection', 'Cantidad de Películas': 3, 'Ganancias Totales': 23.312948159444446, 'Promedio de las Ganancias': 7.770982719814815}\n",
      "{'Franquicia': 'Grumpy Old Men Collection', 'Cantidad de Películas': 2, 'Ganancias Totales': 0.0, 'Promedio de las Ganancias': 0.0}\n",
      "{'Franquicia': 'James Bond Collection', 'Cantidad de Películas': 26, 'Ganancias Totales': 342.14729864752445, 'Promedio de las Ganancias': 13.159511486443249}\n"
     ]
    }
   ],
   "source": [
    "print(franquicia('Toy Story Collection'))\n",
    "print(franquicia('Grumpy Old Men Collection'))\n",
    "print(franquicia('James Bond Collection'))"
   ]
  },
  {
   "cell_type": "markdown",
   "metadata": {},
   "source": [
    "# _________________________________________________________________\n",
    "### Función 4 Películas producidas en el país"
   ]
  },
  {
   "cell_type": "code",
   "execution_count": 17,
   "metadata": {},
   "outputs": [],
   "source": [
    "def peliculas_pais( Pais: str ):\n",
    "    '''Se ingresa un país, retornando la cantidad de peliculas producidas en el mismo.'''\n",
    "    film_por_pais = df[df['Pais_de_Produccion'].str.contains(Pais,na=False,case=False)]\n",
    "    cant = len(film_por_pais)\n",
    "    \n",
    "    return {'Respuesta':f\"Se produjeron {cant} películas en {Pais}\"}"
   ]
  },
  {
   "cell_type": "code",
   "execution_count": 18,
   "metadata": {},
   "outputs": [
    {
     "name": "stdout",
     "output_type": "stream",
     "text": [
      "{'Respuesta': 'Se produjeron 1766 películas en Canada'}\n",
      "{'Respuesta': 'Se produjeron 34 películas en Colombia'}\n",
      "{'Respuesta': 'Se produjeron 254 películas en Argentina'}\n"
     ]
    }
   ],
   "source": [
    "print(peliculas_pais('Canada'))\n",
    "print(peliculas_pais('Colombia'))\n",
    "print(peliculas_pais('Argentina'))"
   ]
  },
  {
   "cell_type": "markdown",
   "metadata": {},
   "source": [
    "# _________________________________________________________________\n",
    "### Función 5 Productoras exitosas"
   ]
  },
  {
   "cell_type": "code",
   "execution_count": 12,
   "metadata": {},
   "outputs": [],
   "source": [
    "def productoras_exitosas( Productora: str ):\n",
    "    '''Se ingresa la productora, entregandote el revenue total y la cantidad de peliculas que realizo.'''\n",
    "    variable_productora=df[['Productora','Ganancia']].dropna()\n",
    "    variable_productora['Productora']=variable_productora['Productora'].map(str.lower)\n",
    "    variable_productora=variable_productora[variable_productora.Productora.str.contains(Productora.lower(), regex=False)]\n",
    "    cantidad=variable_productora.shape[0]\n",
    "    ganancia=variable_productora['Ganancia'].sum()\n",
    "    return {'La productora':Productora, \n",
    "            'obtuvo ganancias de':ganancia, \n",
    "            'y las películas que hizo fueron':cantidad}"
   ]
  },
  {
   "cell_type": "code",
   "execution_count": 14,
   "metadata": {},
   "outputs": [
    {
     "name": "stdout",
     "output_type": "stream",
     "text": [
      "{'La productora': 'Warner Bros', 'obtuvo ganancias de': 1913.519367769822, 'y las películas que hizo fueron': 1376}\n",
      "{'La productora': 'Pixar Animation Studios', 'obtuvo ganancias de': 86.57765020237606, 'y las películas que hizo fueron': 52}\n",
      "{'La productora': 'Walt Disney Pictures', 'obtuvo ganancias de': 551.264371898349, 'y las películas que hizo fueron': 263}\n"
     ]
    }
   ],
   "source": [
    "print(productoras_exitosas('Warner Bros'))\n",
    "print(productoras_exitosas('Pixar Animation Studios'))\n",
    "print(productoras_exitosas('Walt Disney Pictures'))"
   ]
  },
  {
   "cell_type": "markdown",
   "metadata": {},
   "source": [
    "# _________________________________________________________________\n",
    "### Función 6 Director"
   ]
  },
  {
   "cell_type": "code",
   "execution_count": 15,
   "metadata": {},
   "outputs": [],
   "source": [
    "def get_director(Director):\n",
    "    '''Se ingresa el nombre de un director y devuelve la información de cada película en la que trabajó'''\n",
    "    resultado = []\n",
    "\n",
    "    # En el ciclo For, usé \"_\" porque no es necesario trabajar con el índice\n",
    "    # Esto evita la necesidad de trabajar con una tupla en cada iteración \n",
    "    # y podemos acceder directamente a los valores de la serie utilizando row['Director'], row['Titulo'],\n",
    "    for _, row in df.iterrows():\n",
    "        director = row['Director']\n",
    "        if isinstance(director, str) and Director.lower() == director.lower():\n",
    "            titulo = row['Titulo']\n",
    "            fecha_lanzamiento = pd.to_datetime(row['Fecha_Lanzamiento']).date()\n",
    "            ganancia = round(row['Ganancia'], 9)\n",
    "            presupuesto = int(row['Presupuesto'])\n",
    "            ingresos = int(row['Ingresos'])\n",
    "            \n",
    "            pelicula = {\n",
    "                'Titulo': titulo,\n",
    "                'Fecha de lanzamiento': fecha_lanzamiento,\n",
    "                'Ganancia': ganancia,\n",
    "                'Presupuesto': presupuesto,\n",
    "                'Ingresos Totales': ingresos\n",
    "            }\n",
    "            \n",
    "            resultado.append(pelicula)\n",
    "    \n",
    "    if not resultado:\n",
    "        resultado = \"No se encontró al director especificado.\"\n",
    "\n",
    "    return resultado"
   ]
  },
  {
   "cell_type": "code",
   "execution_count": 16,
   "metadata": {},
   "outputs": [
    {
     "name": "stdout",
     "output_type": "stream",
     "text": [
      "[{'Titulo': 'True Lies', 'Fecha de lanzamiento': datetime.date(1994, 7, 14), 'Ganancia': 3.294629661, 'Presupuesto': 115000000, 'Ingresos Totales': 378882411}, {'Titulo': 'Terminator 2: Judgment Day', 'Fecha de lanzamiento': datetime.date(1991, 7, 1), 'Ganancia': 5.2, 'Presupuesto': 100000000, 'Ingresos Totales': 520000000}, {'Titulo': 'The Abyss', 'Fecha de lanzamiento': datetime.date(1989, 8, 9), 'Ganancia': 1.285715686, 'Presupuesto': 70000000, 'Ingresos Totales': 90000098}, {'Titulo': 'Aliens', 'Fecha de lanzamiento': datetime.date(1986, 7, 18), 'Ganancia': 9.908997568, 'Presupuesto': 18500000, 'Ingresos Totales': 183316455}, {'Titulo': 'The Terminator', 'Fecha de lanzamiento': datetime.date(1984, 10, 26), 'Ganancia': 12.2455, 'Presupuesto': 6400000, 'Ingresos Totales': 78371200}, {'Titulo': 'Titanic', 'Fecha de lanzamiento': datetime.date(1997, 11, 18), 'Ganancia': 9.22517094, 'Presupuesto': 200000000, 'Ingresos Totales': 1845034188}, {'Titulo': 'Piranha Part Two: The Spawning', 'Fecha de lanzamiento': datetime.date(1981, 1, 1), 'Ganancia': 0.0, 'Presupuesto': 145786, 'Ingresos Totales': 0}, {'Titulo': 'Ghosts of the Abyss', 'Fecha de lanzamiento': datetime.date(2003, 4, 10), 'Ganancia': 1.310836231, 'Presupuesto': 13000000, 'Ingresos Totales': 17040871}, {'Titulo': 'Aliens of the Deep', 'Fecha de lanzamiento': datetime.date(2005, 1, 21), 'Ganancia': 0.0, 'Presupuesto': 0, 'Ingresos Totales': 0}, {'Titulo': 'Avatar', 'Fecha de lanzamiento': datetime.date(2009, 12, 10), 'Ganancia': 11.763565768, 'Presupuesto': 237000000, 'Ingresos Totales': 2787965087}, {'Titulo': 'Avatar 2', 'Fecha de lanzamiento': datetime.date(2020, 12, 16), 'Ganancia': 0.0, 'Presupuesto': 0, 'Ingresos Totales': 0}, {'Titulo': 'T2 3-D: Battle Across Time', 'Fecha de lanzamiento': datetime.date(1996, 1, 1), 'Ganancia': 0.0, 'Presupuesto': 0, 'Ingresos Totales': 0}]\n",
      "[{'Titulo': 'Jumanji', 'Fecha de lanzamiento': datetime.date(1995, 12, 15), 'Ganancia': 4.0430346, 'Presupuesto': 65000000, 'Ingresos Totales': 262797249}, {'Titulo': 'The Pagemaster', 'Fecha de lanzamiento': datetime.date(1994, 11, 23), 'Ganancia': 0.506321778, 'Presupuesto': 27000000, 'Ingresos Totales': 13670688}, {'Titulo': 'Honey, I Shrunk the Kids', 'Fecha de lanzamiento': datetime.date(1989, 6, 22), 'Ganancia': 6.960130375, 'Presupuesto': 32000000, 'Ingresos Totales': 222724172}, {'Titulo': 'The Rocketeer', 'Fecha de lanzamiento': datetime.date(1991, 6, 21), 'Ganancia': 1.476190476, 'Presupuesto': 42000000, 'Ingresos Totales': 62000000}, {'Titulo': 'October Sky', 'Fecha de lanzamiento': datetime.date(1999, 2, 19), 'Ganancia': 0.0, 'Presupuesto': 0, 'Ingresos Totales': 0}, {'Titulo': 'Jurassic Park III', 'Fecha de lanzamiento': datetime.date(2001, 7, 18), 'Ganancia': 3.965385043, 'Presupuesto': 93000000, 'Ingresos Totales': 368780809}, {'Titulo': 'Hidalgo', 'Fecha de lanzamiento': datetime.date(2004, 3, 5), 'Ganancia': 1.0810345, 'Presupuesto': 100000000, 'Ingresos Totales': 108103450}, {'Titulo': 'The Wolfman', 'Fecha de lanzamiento': datetime.date(2010, 2, 11), 'Ganancia': 0.0, 'Presupuesto': 150000000, 'Ingresos Totales': 0}, {'Titulo': 'Captain America: The First Avenger', 'Fecha de lanzamiento': datetime.date(2011, 7, 22), 'Ganancia': 2.646926957, 'Presupuesto': 140000000, 'Ingresos Totales': 370569774}, {'Titulo': 'Not Safe for Work', 'Fecha de lanzamiento': datetime.date(2014, 5, 9), 'Ganancia': 0.0, 'Presupuesto': 0, 'Ingresos Totales': 0}]\n",
      "[{'Titulo': 'Grumpier Old Men', 'Fecha de lanzamiento': datetime.date(1995, 12, 22), 'Ganancia': 0.0, 'Presupuesto': 0, 'Ingresos Totales': 0}, {'Titulo': 'Getting Even with Dad', 'Fecha de lanzamiento': datetime.date(1994, 6, 17), 'Ganancia': 0.0, 'Presupuesto': 30000000, 'Ingresos Totales': 0}, {'Titulo': 'Some Kind of Wonderful', 'Fecha de lanzamiento': datetime.date(1987, 2, 27), 'Ganancia': 0.0, 'Presupuesto': 0, 'Ingresos Totales': 18553948}, {'Titulo': 'The Odd Couple II', 'Fecha de lanzamiento': datetime.date(1998, 4, 9), 'Ganancia': 0.0, 'Presupuesto': 0, 'Ingresos Totales': 0}, {'Titulo': 'Pretty in Pink', 'Fecha de lanzamiento': datetime.date(1986, 2, 28), 'Ganancia': 0.0, 'Presupuesto': 0, 'Ingresos Totales': 40471663}, {'Titulo': 'The Replacements', 'Fecha de lanzamiento': datetime.date(2000, 8, 7), 'Ganancia': 0.0, 'Presupuesto': 0, 'Ingresos Totales': 0}, {'Titulo': 'The Great Outdoors', 'Fecha de lanzamiento': datetime.date(1988, 6, 17), 'Ganancia': 1.810634583, 'Presupuesto': 24000000, 'Ingresos Totales': 43455230}, {'Titulo': 'Article 99', 'Fecha de lanzamiento': datetime.date(1992, 3, 13), 'Ganancia': 0.354221056, 'Presupuesto': 18000000, 'Ingresos Totales': 6375979}, {'Titulo': 'The Whole Ten Yards', 'Fecha de lanzamiento': datetime.date(2004, 4, 7), 'Ganancia': 0.653894525, 'Presupuesto': 40000000, 'Ingresos Totales': 26155781}, {'Titulo': \"My Best Friend's Girl\", 'Fecha de lanzamiento': datetime.date(2008, 9, 19), 'Ganancia': 1.8310254, 'Presupuesto': 20000000, 'Ingresos Totales': 36620508}, {'Titulo': 'Gleason', 'Fecha de lanzamiento': datetime.date(2002, 10, 13), 'Ganancia': 0.0, 'Presupuesto': 0, 'Ingresos Totales': 0}]\n"
     ]
    }
   ],
   "source": [
    "print(get_director('James Cameron'))\n",
    "print(get_director('Joe Johnston'))\n",
    "print(get_director('Howard Deutch'))"
   ]
  },
  {
   "cell_type": "markdown",
   "metadata": {},
   "source": [
    "# _________________________________________________________________\n",
    "### Función 7 Recomendación"
   ]
  },
  {
   "cell_type": "code",
   "execution_count": 19,
   "metadata": {},
   "outputs": [],
   "source": [
    "def recomendacion(Titulo: str):\n",
    "    ''' Se ingresa el nombre de una película y te recomienda las similares en una lista de 5 valores.'''\n",
    "    df = pd.read_csv('Datasets/Peliculas_ML.csv')\n",
    "\n",
    "    # Verificar si el título existe en el DataFrame original\n",
    "    if Titulo not in df['Titulo'].values:\n",
    "        return {'Respuesta': 'El título no existe en el DataFrame'}\n",
    "\n",
    "    # Reducción del tamaño del DataFrame con el título incluido\n",
    "    datos_reducidos = df.sample(n=20000, random_state=42)\n",
    "\n",
    "    # Verificar nuevamente si el título existe en la muestra reducida\n",
    "    if Titulo not in datos_reducidos['Titulo'].values:\n",
    "        return {'Respuesta': 'El título no existe en la muestra reducida'}\n",
    "\n",
    "    tfidf = TfidfVectorizer(stop_words='english')\n",
    "    datos_reducidos['Resumen'] = datos_reducidos['Resumen'].fillna('')\n",
    "\n",
    "    tdfidf_matrix = tfidf.fit_transform(datos_reducidos['Resumen'])\n",
    "    cosenoSimilaridad = linear_kernel(tdfidf_matrix, tdfidf_matrix)\n",
    "\n",
    "    indices = datos_reducidos[datos_reducidos['Titulo'] == Titulo].index[0]\n",
    "\n",
    "    peliculas_similares = list(enumerate(cosenoSimilaridad[indices]))\n",
    "    peliculas_ordenadas = sorted(peliculas_similares, key=lambda tupla: tupla[1], reverse=True)\n",
    "    extraer_indices = [i for i, _ in peliculas_ordenadas[1:6]]\n",
    "    respuesta = datos_reducidos['Titulo'].iloc[extraer_indices].values.tolist()\n",
    "\n",
    "    return {'Respuesta': respuesta}"
   ]
  },
  {
   "cell_type": "code",
   "execution_count": 22,
   "metadata": {},
   "outputs": [
    {
     "name": "stdout",
     "output_type": "stream",
     "text": [
      "{'Respuesta': \"['Reptilicus', 'Aurora', 'Free Radicals: A History of Experimental Film', 'Jurassic World', 'Team Thor']\"}\n",
      "{'Respuesta': \"['The Odd Couple II', 'Licence to Kill', 'The Leading Man', 'Café au Lait', 'Slipstream']\"}\n",
      "{'Respuesta': \"['The Chair', 'Blame It on Rio', 'The Matthew Shepard Story', 'The Gospel According to Matthew', 'Feed']\"}\n"
     ]
    }
   ],
   "source": [
    "print(recomendacion('Jumanji'))\n",
    "print(recomendacion('Se7en'))\n",
    "print(recomendacion('Toy Story'))"
   ]
  }
 ],
 "metadata": {
  "kernelspec": {
   "display_name": "Python 3",
   "language": "python",
   "name": "python3"
  },
  "language_info": {
   "codemirror_mode": {
    "name": "ipython",
    "version": 3
   },
   "file_extension": ".py",
   "mimetype": "text/x-python",
   "name": "python",
   "nbconvert_exporter": "python",
   "pygments_lexer": "ipython3",
   "version": "3.11.3"
  },
  "orig_nbformat": 4
 },
 "nbformat": 4,
 "nbformat_minor": 2
}
